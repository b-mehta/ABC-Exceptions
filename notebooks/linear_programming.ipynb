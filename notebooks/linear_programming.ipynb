{
 "cells": [
  {
   "cell_type": "code",
   "execution_count": 1,
   "id": "a974a06f-ae92-46fc-9985-b2cee27732c0",
   "metadata": {},
   "outputs": [],
   "source": [
    "import numpy as np\n",
    "from scipy.optimize import linprog\n",
    "from itertools import *\n",
    "\n",
    "def powerset(iterable):\n",
    "    \"powerset([1,2,3]) → () (1,) (2,) (3,) (1,2) (1,3) (2,3) (1,2,3)\"\n",
    "    s = list(iterable)\n",
    "    return chain.from_iterable(combinations(s, r) for r in range(len(s)+1))"
   ]
  },
  {
   "cell_type": "code",
   "execution_count": 2,
   "id": "9c286f12-4c1b-4b35-947c-d07eba16ba08",
   "metadata": {},
   "outputs": [],
   "source": [
    "constraints = 38\n",
    "A = np.empty((constraints, 22)) # a1, a2, a3, a4, a5, a6, ar; b; c; nu\n",
    "b = np.empty((constraints),)\n",
    "c = np.zeros((22,))"
   ]
  },
  {
   "cell_type": "code",
   "execution_count": 3,
   "id": "3dced39b-c52f-46e4-9469-669bfadfd5a8",
   "metadata": {},
   "outputs": [],
   "source": [
    "delta = 0.001\n",
    "epsilon = 0.00001"
   ]
  },
  {
   "cell_type": "code",
   "execution_count": 4,
   "id": "23674205-3737-4289-84a7-83da09c07a54",
   "metadata": {},
   "outputs": [],
   "source": [
    "c[21] = -1"
   ]
  },
  {
   "cell_type": "code",
   "execution_count": 5,
   "id": "485cc923-8776-45dd-85cd-738a33c14072",
   "metadata": {},
   "outputs": [],
   "source": [
    "# eqns 4.2\n",
    "A[0] = [1, 2, 3, 4, 5, 6, 7,  0, 0, 0, 0, 0, 0, 0,  0, 0, 0, 0, 0, 0, 0,  0] \n",
    "A[1] = [0, 0, 0, 0, 0, 0, 0,  1, 2, 3, 4, 5, 6, 7,  0, 0, 0, 0, 0, 0, 0,  0] \n",
    "A[2] = [0, 0, 0, 0, 0, 0, 0,  0, 0, 0, 0, 0, 0, 0,  1, 2, 3, 4, 5, 6, 7,  0]\n",
    "\n",
    "b[0] = b[1] = b[2] = 1"
   ]
  },
  {
   "cell_type": "code",
   "execution_count": 6,
   "id": "0e9bec6a-2c41-4834-bcbb-dd86727d9034",
   "metadata": {},
   "outputs": [],
   "source": [
    "# eqns 4.3\n",
    "A[3] = [-1, -1, -1, -1, -1, -1, -1,  -1, -1, -1, -1, -1, -1, -1,  0, 0, 0, 0, 0, 0, 0,  0]\n",
    "A[4] = [-1, -1, -1, -1, -1, -1, -1,  0, 0, 0, 0, 0, 0, 0,  -1, -1, -1, -1, -1, -1, -1,  0]\n",
    "A[5] = [0, 0, 0, 0, 0, 0, 0,  -1, -1, -1, -1, -1, -1, -1,  -1, -1, -1, -1, -1, -1, -1,  0]\n",
    "\n",
    "b[3] = b[4] = b[5] = epsilon ** 2 - 0.66"
   ]
  },
  {
   "cell_type": "code",
   "execution_count": 7,
   "id": "088a7116-4e35-49d6-a1d9-d577da35de6e",
   "metadata": {},
   "outputs": [],
   "source": [
    "# eqn 4.4\n",
    "A[6] = [1, 1, 1, 1, 1, 1, 1,  1, 1, 1, 1, 1, 1, 1,  1, 1, 1, 1, 1, 1, 1,  0]\n",
    "b[6] = 1 + delta - epsilon"
   ]
  },
  {
   "cell_type": "code",
   "execution_count": 8,
   "id": "11c198a1-2a28-4cb3-a88e-7ef7d60792d2",
   "metadata": {},
   "outputs": [],
   "source": [
    "# eqn 4.5\n",
    "A[7] = [1, 1, 1, 1, 1, 1, 1,  0, 0, 0, 0, 0, 0, 0,  0, 0, 0, 0, 0, 0, 0,  0]\n",
    "A[8] = [0, 0, 0, 0, 0, 0, 0,  1, 1, 1, 1, 1, 1, 1,  0, 0, 0, 0, 0, 0, 0,  0]\n",
    "A[9] = [0, 0, 0, 0, 0, 0, 0,  0, 0, 0, 0, 0, 0, 0,  1, 1, 1, 1, 1, 1, 1,  0]\n",
    "b[7] = b[8] = b[9] = 0.34 + delta - epsilon / 2"
   ]
  },
  {
   "cell_type": "code",
   "execution_count": 9,
   "id": "5bf3958b-d708-432f-9efd-7bba1460965a",
   "metadata": {},
   "outputs": [],
   "source": [
    "# thue\n",
    "A[10] = [0, 1, 0, 1, 0, 1, 0,  0, 1, 0, 1, 0, 1, 0,  0, 0, 0, 0, 0, 0, 0,  1]\n",
    "A[11] = [0, 0, 1, 0, 0, 1, 0,  0, 0, 1, 0, 0, 1, 0,  0, 0, 0, 0, 0, 0, 0,  1]\n",
    "A[12] = [0, 0, 0, 0, 1, 0, 0,  0, 0, 0, 0, 1, 0, 0,  0, 0, 0, 0, 0, 0, 0,  1]\n",
    "\n",
    "A[13] = [0, 1, 0, 1, 0, 1, 0,  0, 0, 0, 0, 0, 0, 0,  0, 1, 0, 1, 0, 1, 0,  1]\n",
    "A[14] = [0, 0, 1, 0, 0, 1, 0,  0, 0, 0, 0, 0, 0, 0,  0, 0, 1, 0, 0, 1, 0,  1]\n",
    "A[15] = [0, 0, 0, 0, 1, 0, 0,  0, 0, 0, 0, 0, 0, 0,  0, 0, 0, 0, 1, 0, 0,  1]\n",
    "\n",
    "A[16] = [0, 0, 0, 0, 0, 0, 0,  0, 1, 0, 1, 0, 1, 0,  0, 1, 0, 1, 0, 1, 0,  1]\n",
    "A[17] = [0, 0, 0, 0, 0, 0, 0,  0, 0, 1, 0, 0, 1, 0,  0, 0, 1, 0, 0, 1, 0,  1]\n",
    "A[18] = [0, 0, 0, 0, 0, 0, 0,  0, 0, 0, 0, 1, 0, 0,  0, 0, 0, 0, 1, 0, 0,  1]\n",
    "\n",
    "b[10] = b[11] = b[12] = b[13] = b[14] = b[15] = b[16] = b[17] = b[18] = 1 + delta"
   ]
  },
  {
   "cell_type": "code",
   "execution_count": 10,
   "id": "2603b55e-cc6c-45fe-874e-36b67a580638",
   "metadata": {},
   "outputs": [],
   "source": [
    "# weak fourier\n",
    "A[19] = [-1, -1, -1, -1, -1, 0, -1,  -1, -1, -1, -1, -1, 0, -1,  0, 0, 0, 0, 0, 0, 0,  1]\n",
    "A[20] = [-1, -1, -1, -1, 0, -1, -1,  -1, -1, -1, -1, 0, -1, -1,  0, 0, 0, 0, 0, 0, 0,  1]\n",
    "A[21] = [-1, -1, -1, 0, -1, -1, -1,  -1, -1, -1, 0, -1, -1, -1,  0, 0, 0, 0, 0, 0, 0,  1]\n",
    "A[22] = [-1, -1, 0, -1, -1, -1, -1,  -1, -1, 0, -1, -1, -1, -1,  0, 0, 0, 0, 0, 0, 0,  1]\n",
    "A[23] = [-1, 0, -1, -1, -1, -1, -1,  -1, 0, -1, -1, -1, -1, -1,  0, 0, 0, 0, 0, 0, 0,  1]\n",
    "A[24] = [0, -1, -1, -1, -1, -1, -1,  0, -1, -1, -1, -1, -1, -1,  0, 0, 0, 0, 0, 0, 0,  1]\n",
    "\n",
    "A[25] = [-1, -1, -1, -1, -1, 0, -1,  0, 0, 0, 0, 0, 0, 0,  -1, -1, -1, -1, -1, 0, -1,  1]\n",
    "A[26] = [-1, -1, -1, -1, 0, -1, -1,  0, 0, 0, 0, 0, 0, 0,  -1, -1, -1, -1, 0, -1, -1,  1]\n",
    "A[27] = [-1, -1, -1, 0, -1, -1, -1,  0, 0, 0, 0, 0, 0, 0,  -1, -1, -1, 0, -1, -1, -1,  1]\n",
    "A[28] = [-1, -1, 0, -1, -1, -1, -1,  0, 0, 0, 0, 0, 0, 0,  -1, -1, 0, -1, -1, -1, -1,  1]\n",
    "A[29] = [-1, 0, -1, -1, -1, -1, -1,  0, 0, 0, 0, 0, 0, 0,  -1, 0, -1, -1, -1, -1, -1,  1]\n",
    "A[30] = [0, -1, -1, -1, -1, -1, -1,  0, 0, 0, 0, 0, 0, 0,  0, -1, -1, -1, -1, -1, -1,  1]\n",
    "\n",
    "A[31] = [0, 0, 0, 0, 0, 0, 0,  -1, -1, -1, -1, -1, 0, -1,  -1, -1, -1, -1, -1, 0, -1,  1]\n",
    "A[32] = [0, 0, 0, 0, 0, 0, 0,  -1, -1, -1, -1, 0, -1, -1,  -1, -1, -1, -1, 0, -1, -1,  1]\n",
    "A[33] = [0, 0, 0, 0, 0, 0, 0,  -1, -1, -1, 0, -1, -1, -1,  -1, -1, -1, 0, -1, -1, -1,  1]\n",
    "A[34] = [0, 0, 0, 0, 0, 0, 0,  -1, -1, 0, -1, -1, -1, -1,  -1, -1, 0, -1, -1, -1, -1,  1]\n",
    "A[35] = [0, 0, 0, 0, 0, 0, 0,  -1, 0, -1, -1, -1, -1, -1,  -1, 0, -1, -1, -1, -1, -1,  1]\n",
    "A[36] = [0, 0, 0, 0, 0, 0, 0,  0, -1, -1, -1, -1, -1, -1,  0, -1, -1, -1, -1, -1, -1,  1]\n",
    "\n",
    "b[19:37] = (1 + delta) / 2"
   ]
  },
  {
   "cell_type": "code",
   "execution_count": 11,
   "id": "e6066544-f080-4324-b159-60a24f64c611",
   "metadata": {},
   "outputs": [],
   "source": [
    "A[37] = [1, 1, 0, 0, 0, 0, 0,  1, 1, 0, 0, 0, 0, 0,  1, 1, 0, 0, 0, 0, 0,  0]\n",
    "b[37] = 0.34 + delta"
   ]
  },
  {
   "cell_type": "code",
   "execution_count": 12,
   "id": "7052c36c-30e3-4a6f-b0cd-fc419f42010b",
   "metadata": {},
   "outputs": [
    {
     "name": "stdout",
     "output_type": "stream",
     "text": [
      "(254, 22)\n"
     ]
    }
   ],
   "source": [
    "# determinant\n",
    "shifts = [(0, 7), (0, 14), (7, 14)]\n",
    "for x, y in shifts:\n",
    "    for p in range(1, 7):\n",
    "        for q in range(1, 7):\n",
    "            row1 = np.zeros((22,))\n",
    "            row2 = np.zeros((22,))\n",
    "            row1[21] = row2[21] = 1\n",
    "            row1[p - 1 + x] = 1 - 1 / q\n",
    "            row1[q - 1 + y] = 1\n",
    "\n",
    "            row2[p - 1 + x] = 1\n",
    "            row2[q - 1 + y] = 1 - 1 / p\n",
    "            A = np.vstack([A, row1, row2])\n",
    "            b = np.hstack([b, 1 + delta, 1 + delta])\n",
    "print(A.shape)"
   ]
  },
  {
   "cell_type": "code",
   "execution_count": 13,
   "id": "bca3d491-894f-4bdf-80e9-bc4f1a0b21b6",
   "metadata": {},
   "outputs": [
    {
     "name": "stdout",
     "output_type": "stream",
     "text": [
      "(2097406, 22)\n"
     ]
    }
   ],
   "source": [
    "geom = np.empty((2 ** 21, 22))\n",
    "geom_b = np.empty((2 ** 21,))\n",
    "geom_b[:] = 1 + delta\n",
    "\n",
    "count = 0\n",
    "\n",
    "# geometry\n",
    "shifts = [(0, 7), (0, 14), (7, 14)]\n",
    "for I1, I2, I3 in product(powerset(range(1, 8)), repeat=3):\n",
    "    # if len(I1) > 5 and len(I2) > 5 and len(I3) > 5:\n",
    "    row = np.zeros((22,))\n",
    "    row[21] = 1\n",
    "    for i in I1:\n",
    "        row[i - 1] = 1 - 2 / 3 * i\n",
    "    for i in I2:\n",
    "        row[i - 1 + 7] = 1 - 2 / 3 * i\n",
    "    for i in I3:\n",
    "        row[i - 1 + 14] = 1 - 2 / 3 * i\n",
    "    geom[count] = row\n",
    "    count += 1\n",
    "\n",
    "A = np.vstack([A, geom])\n",
    "b = np.hstack([b, geom_b])\n",
    "\n",
    "print(A.shape)"
   ]
  },
  {
   "cell_type": "code",
   "execution_count": 14,
   "id": "cb5bfa87-498e-4acc-850a-3af49e0164a7",
   "metadata": {},
   "outputs": [
    {
     "data": {
      "text/plain": [
       "2097152"
      ]
     },
     "execution_count": 14,
     "metadata": {},
     "output_type": "execute_result"
    }
   ],
   "source": [
    "count"
   ]
  },
  {
   "cell_type": "code",
   "execution_count": 15,
   "id": "651d37c8-4d5c-4fd7-a74c-d6d63cb02358",
   "metadata": {},
   "outputs": [],
   "source": [
    "sol = linprog(c, A, b)"
   ]
  },
  {
   "cell_type": "code",
   "execution_count": 16,
   "id": "1af30a7c-c6d3-434e-831e-9579220f9e5a",
   "metadata": {},
   "outputs": [
    {
     "data": {
      "text/plain": [
       "        message: Optimization terminated successfully. (HiGHS Status 7: Optimal)\n",
       "        success: True\n",
       "         status: 0\n",
       "            fun: -0.8511739800411859\n",
       "              x: [ 1.078e-01  5.907e-03 ...  8.796e-03  8.512e-01]\n",
       "            nit: 57\n",
       "          lower:  residual: [ 1.078e-01  5.907e-03 ...  8.796e-03\n",
       "                              8.512e-01]\n",
       "                 marginals: [ 0.000e+00  0.000e+00 ...  0.000e+00\n",
       "                              0.000e+00]\n",
       "          upper:  residual: [       inf        inf ...        inf\n",
       "                                    inf]\n",
       "                 marginals: [ 0.000e+00  0.000e+00 ...  0.000e+00\n",
       "                              0.000e+00]\n",
       "          eqlin:  residual: []\n",
       "                 marginals: []\n",
       "        ineqlin:  residual: [ 0.000e+00  0.000e+00 ...  1.196e+00\n",
       "                              1.160e+00]\n",
       "                 marginals: [-6.266e-02 -6.266e-02 ... -0.000e+00\n",
       "                             -0.000e+00]\n",
       " mip_node_count: 0\n",
       " mip_dual_bound: 0.0\n",
       "        mip_gap: 0.0"
      ]
     },
     "execution_count": 16,
     "metadata": {},
     "output_type": "execute_result"
    }
   ],
   "source": [
    "sol"
   ]
  },
  {
   "cell_type": "code",
   "execution_count": 17,
   "id": "b4fc6b8d-ed7f-419f-8613-43c885501fb0",
   "metadata": {},
   "outputs": [
    {
     "name": "stdout",
     "output_type": "stream",
     "text": [
      "ν = 0.8511739800411859\n"
     ]
    }
   ],
   "source": [
    "print(f\"ν = {sol.x[21]}\")"
   ]
  },
  {
   "cell_type": "code",
   "execution_count": 18,
   "id": "4c28616b-5caa-4950-ba6e-b891bdaec6b2",
   "metadata": {},
   "outputs": [
    {
     "name": "stdout",
     "output_type": "stream",
     "text": [
      "a = [0.10775982 0.00590685 0.07491301 0.06900616 0.06361817 0.\n",
      " 0.008796  ]\n"
     ]
    }
   ],
   "source": [
    "print(\"a =\", sol.x[0:7])"
   ]
  },
  {
   "cell_type": "code",
   "execution_count": 19,
   "id": "f7d99d2c-b500-4c54-903a-8286a563be7c",
   "metadata": {},
   "outputs": [
    {
     "name": "stdout",
     "output_type": "stream",
     "text": [
      "b = [0.10775982 0.00590685 0.07491301 0.06900616 0.06361817 0.\n",
      " 0.008796  ]\n"
     ]
    }
   ],
   "source": [
    "print(\"b =\", sol.x[7:14])"
   ]
  },
  {
   "cell_type": "code",
   "execution_count": 20,
   "id": "5e5113a9-938e-4613-a96a-cf387c193fc4",
   "metadata": {},
   "outputs": [
    {
     "name": "stdout",
     "output_type": "stream",
     "text": [
      "c = [0.10775982 0.00590685 0.07491301 0.06900616 0.06361817 0.\n",
      " 0.008796  ]\n"
     ]
    }
   ],
   "source": [
    "print(\"c =\", sol.x[14:21])"
   ]
  },
  {
   "cell_type": "code",
   "execution_count": 21,
   "id": "78313f58-1e10-4d8e-8efa-eb227b74fb3d",
   "metadata": {},
   "outputs": [
    {
     "data": {
      "text/plain": [
       "array([  0,   1,   2,   3,   4,   5,  10,  11,  13,  14,  16,  17,  37,\n",
       "        44,  46,  75,  87, 116, 118, 147, 159, 188, 190, 219, 231])"
      ]
     },
     "execution_count": 21,
     "metadata": {},
     "output_type": "execute_result"
    }
   ],
   "source": [
    "np.where(sol.slack == 0)[0]"
   ]
  }
 ],
 "metadata": {
  "kernelspec": {
   "display_name": "Python 3 (ipykernel)",
   "language": "python",
   "name": "python3"
  },
  "language_info": {
   "codemirror_mode": {
    "name": "ipython",
    "version": 3
   },
   "file_extension": ".py",
   "mimetype": "text/x-python",
   "name": "python",
   "nbconvert_exporter": "python",
   "pygments_lexer": "ipython3",
   "version": "3.8.5"
  }
 },
 "nbformat": 4,
 "nbformat_minor": 5
}
