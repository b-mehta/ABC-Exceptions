{
 "cells": [
  {
   "cell_type": "code",
   "execution_count": 1,
   "id": "0d528299-b915-4a1a-9a32-40bf3ddc7b88",
   "metadata": {},
   "outputs": [],
   "source": [
    "import numpy as np\n",
    "from scipy.optimize import linprog\n",
    "from itertools import *\n",
    "\n",
    "def powerset(iterable):\n",
    "    \"powerset([1,2,3]) → () (1,) (2,) (3,) (1,2) (1,3) (2,3) (1,2,3)\"\n",
    "    s = list(iterable)\n",
    "    return chain.from_iterable(combinations(s, r) for r in range(len(s)+1))"
   ]
  },
  {
   "cell_type": "code",
   "execution_count": 78,
   "id": "4285ac2c-2f75-4794-869a-a7455a7014e2",
   "metadata": {},
   "outputs": [],
   "source": [
    "delta = 0.001\n",
    "epsilon = 0.00001"
   ]
  },
  {
   "cell_type": "code",
   "execution_count": 79,
   "id": "d160a6a7-37eb-48a3-a06c-ea6daae71f0c",
   "metadata": {},
   "outputs": [],
   "source": [
    "variables = [i + str(j) for i in \"abc\" for j in range(1,8)] + ['nu']\n",
    "\n",
    "for I1, I2, I3 in product(powerset([2, 3, 6, 7]), repeat=3):\n",
    "    I1 = (1,) + I1\n",
    "    I2 = (1,) + I2\n",
    "    I3 = (1,) + I3\n",
    "    i = \"\".join(str(j) for j in I1) + \";\" + \"\".join(str(j) for j in I2) + \";\" + \"\".join(str(j) for j in I3)\n",
    "    variables.append((\"m\", I1, I2, I3))\n",
    "    variables.append((\"z\", I1, I2, I3))\n",
    "\n",
    "rev = {j:i for i,j in enumerate(variables)}\n",
    "integrality = np.zeros((len(variables),))\n",
    "for i, j in rev.items():\n",
    "    if i[0] == 'z':\n",
    "        integrality[j] = 1"
   ]
  },
  {
   "cell_type": "code",
   "execution_count": 80,
   "id": "be1e415a-c023-4c37-9a28-4d6f10c9d1d0",
   "metadata": {},
   "outputs": [],
   "source": [
    "def b4p2(size):\n",
    "    A = np.zeros((3, size))\n",
    "    b = np.array([1, 1, 1])\n",
    "    A[0,0:7] = A[1,7:14] = A[2,14:21] = [1, 2, 3, 4, 5, 6, 7]\n",
    "    return (A, b)"
   ]
  },
  {
   "cell_type": "code",
   "execution_count": 81,
   "id": "05775213-c930-4072-a438-77df521bb9f9",
   "metadata": {},
   "outputs": [],
   "source": [
    "def b4p3(size):\n",
    "    A = np.zeros((3, size))\n",
    "    b = np.array([epsilon - 0.66, epsilon - 0.66, epsilon - 0.66])\n",
    "    A[:,:21] = -1\n",
    "    A[0,0:7] = A[1,7:14] = A[2,14:21] = 0\n",
    "    return (A, b)"
   ]
  },
  {
   "cell_type": "code",
   "execution_count": 82,
   "id": "fd0d635b-f300-4aea-961f-48d0894e7964",
   "metadata": {},
   "outputs": [],
   "source": [
    "def b4p4(size):\n",
    "    A = np.zeros((1, size))\n",
    "    b = np.array([1 + delta - epsilon])\n",
    "    A[:,:21] = 1\n",
    "    return (A, b)"
   ]
  },
  {
   "cell_type": "code",
   "execution_count": 89,
   "id": "e1822566-f856-44b2-9b07-b1984290fa5e",
   "metadata": {},
   "outputs": [],
   "source": [
    "def b4p5(size):\n",
    "    A = np.zeros((6, size))\n",
    "    b = np.zeros((6,))\n",
    "    b[:3] = 0.34 + delta - epsilon / 2\n",
    "    b[3:] = delta - 0.32\n",
    "    A[0,0:7] = A[1,7:14] = A[2,14:21] = 1\n",
    "    A[3,0:7] = A[4,7:14] = A[5,14:21] = -1\n",
    "    return (A, b)"
   ]
  },
  {
   "cell_type": "code",
   "execution_count": 91,
   "id": "8711a057-501d-4157-94e3-623c3446cc8a",
   "metadata": {},
   "outputs": [],
   "source": [
    "def geom(size):\n",
    "    A = np.zeros((5 * 2 ** (4 * 3), size))\n",
    "    b = np.zeros((5 * 2 ** (4 * 3),))\n",
    "    \n",
    "    for q, (I1, I2, I3) in enumerate(product(powerset([2, 3, 6, 7]), repeat=3)):\n",
    "        I1 = (1,) + I1\n",
    "        I2 = (1,) + I2\n",
    "        I3 = (1,) + I3\n",
    "        f = np.zeros((size,))\n",
    "        for i in I1:\n",
    "            A[5 * q, i - 1] = 1\n",
    "            f[i - 1] = i\n",
    "        for i in I2:\n",
    "            A[5 * q, i - 1 + 7] = 1\n",
    "            f[i - 1 + 7] = i\n",
    "        for i in I3:\n",
    "            A[5 * q, i - 1 + 14] = 1\n",
    "            f[i - 1 + 14] = i\n",
    "        \n",
    "        A[5 * q, 21] = 1\n",
    "        A[5 * q, 2 * q + 22] = -1\n",
    "        b[5 * q] = delta\n",
    "\n",
    "        A[5 * q + 1, 2 * q + 22] = 1\n",
    "        A[5 * q + 1, 2 * q + 23] = -2\n",
    "        A[5 * q + 1] -= f\n",
    "        b[5 * q + 1] = 0\n",
    "\n",
    "        A[5 * q + 2, 2 * q + 22] = 1\n",
    "        A[5 * q + 2, 2 * q + 23] = 2\n",
    "        b[5 * q + 2] = 3\n",
    "\n",
    "        A[5 * q + 3, 2 * q + 22] = -1\n",
    "        A[5 * q + 3] -= f\n",
    "        b[5 * q + 3] = 0\n",
    "\n",
    "        A[5 * q + 4, 2 * q + 22] = -1\n",
    "        b[5 * q + 4] = -1\n",
    "    return (A, b)"
   ]
  },
  {
   "cell_type": "code",
   "execution_count": 92,
   "id": "fbb1b3f7-fb57-4413-a590-2d456c884664",
   "metadata": {},
   "outputs": [],
   "source": [
    "def det(size):\n",
    "    A = np.zeros((216, size))\n",
    "    b = np.zeros((216,))\n",
    "    shifts = [(0, 7), (0, 14), (7, 14)]\n",
    "    for x, y in shifts:\n",
    "        for p in range(1, 7):\n",
    "            for q in range(1, 7):\n",
    "                A[((p - 1) * 7 + q - 1) * 2, 21] = 1\n",
    "                A[((p - 1) * 7 + q - 1) * 2, p - 1 + x] = 1 - 1 / q\n",
    "                A[((p - 1) * 7 + q - 1) * 2, q - 1 + y] = 1\n",
    "                b[((p - 1) * 7 + q - 1) * 2] = 1 + delta\n",
    "                \n",
    "                A[((p - 1) * 7 + q - 1) * 2 + 1, 21] = 1\n",
    "                A[((p - 1) * 7 + q - 1) * 2 + 1, p - 1 + x] = 1 \n",
    "                A[((p - 1) * 7 + q - 1) * 2 + 1, q - 1 + y] = 1 - 1 / p\n",
    "                b[((p - 1) * 7 + q - 1) * 2 + 1] = 1 + delta\n",
    "    return(A, b)"
   ]
  },
  {
   "cell_type": "code",
   "execution_count": 93,
   "id": "cbea3b8f-a83d-407b-ad3e-c09ab62f5c50",
   "metadata": {},
   "outputs": [],
   "source": [
    "def thue(size):\n",
    "    A = np.zeros((9, size))\n",
    "    b = np.full((9,), 1 + delta)\n",
    "\n",
    "    A[::3, :7] = [0, 1, 0, 1, 0, 1, 0]\n",
    "    A[::3, 7:14] = [0, 1, 0, 1, 0, 1, 0]\n",
    "    A[::3, 14:21] = [0, 1, 0, 1, 0, 1, 0]\n",
    "\n",
    "    A[1::3, :7] = [0, 0, 1, 0, 0, 1, 0]\n",
    "    A[1::3, 7:14] = [0, 0, 1, 0, 0, 1, 0]\n",
    "    A[1::3, 14:21] = [0, 0, 1, 0, 0, 1, 0]\n",
    "\n",
    "    A[2::3, :7] = [0, 0, 0, 0, 1, 0, 0]\n",
    "    A[2::3, 7:14] = [0, 0, 0, 0, 1, 0, 0]\n",
    "    A[2::3, 14:21] = [0, 0, 0, 0, 1, 0, 0]\n",
    "\n",
    "    A[:3, :7] = 0\n",
    "    A[3:6, 7:14] = 0\n",
    "    A[6:9, 14:21] = 0\n",
    "\n",
    "    A[:, 21] = 1\n",
    "    return (A, b)"
   ]
  },
  {
   "cell_type": "code",
   "execution_count": 94,
   "id": "53e6f161-7b16-4e36-a9dc-a29e8dde5e44",
   "metadata": {},
   "outputs": [],
   "source": [
    "size = len(rev)\n",
    "A = np.empty((0, size))\n",
    "b = np.empty((0,))\n",
    "c = np.zeros((size,))\n",
    "c[21] = -1\n",
    "\n",
    "for f in [b4p2, b4p3, b4p4, b4p5, geom, det, thue]:\n",
    "    A2, b2 = f(size)\n",
    "    A = np.vstack([A, A2])\n",
    "    b = np.hstack([b, b2])"
   ]
  },
  {
   "cell_type": "code",
   "execution_count": null,
   "id": "49a5b2a4-5495-42d6-8094-540d4d3d3869",
   "metadata": {},
   "outputs": [],
   "source": [
    "sol = linprog(c, A, b, integrality=integrality)"
   ]
  }
 ],
 "metadata": {
  "kernelspec": {
   "display_name": "Python 3 (ipykernel)",
   "language": "python",
   "name": "python3"
  },
  "language_info": {
   "codemirror_mode": {
    "name": "ipython",
    "version": 3
   },
   "file_extension": ".py",
   "mimetype": "text/x-python",
   "name": "python",
   "nbconvert_exporter": "python",
   "pygments_lexer": "ipython3",
   "version": "3.8.5"
  }
 },
 "nbformat": 4,
 "nbformat_minor": 5
}
